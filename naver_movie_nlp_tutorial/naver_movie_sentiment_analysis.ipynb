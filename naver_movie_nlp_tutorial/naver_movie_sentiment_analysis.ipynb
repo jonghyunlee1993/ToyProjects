{
 "cells": [
  {
   "cell_type": "code",
   "execution_count": 1,
   "metadata": {
    "ExecuteTime": {
     "end_time": "2020-11-01T12:52:43.653267Z",
     "start_time": "2020-11-01T12:52:42.761063Z"
    }
   },
   "outputs": [
    {
     "data": {
      "text/html": [
       "<div>\n",
       "<style scoped>\n",
       "    .dataframe tbody tr th:only-of-type {\n",
       "        vertical-align: middle;\n",
       "    }\n",
       "\n",
       "    .dataframe tbody tr th {\n",
       "        vertical-align: top;\n",
       "    }\n",
       "\n",
       "    .dataframe thead th {\n",
       "        text-align: right;\n",
       "    }\n",
       "</style>\n",
       "<table border=\"1\" class=\"dataframe\">\n",
       "  <thead>\n",
       "    <tr style=\"text-align: right;\">\n",
       "      <th></th>\n",
       "      <th>id</th>\n",
       "      <th>document</th>\n",
       "      <th>label</th>\n",
       "    </tr>\n",
       "  </thead>\n",
       "  <tbody>\n",
       "    <tr>\n",
       "      <th>0</th>\n",
       "      <td>9976970</td>\n",
       "      <td>아 더빙.. 진짜 짜증나네요 목소리</td>\n",
       "      <td>0</td>\n",
       "    </tr>\n",
       "    <tr>\n",
       "      <th>1</th>\n",
       "      <td>3819312</td>\n",
       "      <td>흠...포스터보고 초딩영화줄....오버연기조차 가볍지 않구나</td>\n",
       "      <td>1</td>\n",
       "    </tr>\n",
       "    <tr>\n",
       "      <th>2</th>\n",
       "      <td>10265843</td>\n",
       "      <td>너무재밓었다그래서보는것을추천한다</td>\n",
       "      <td>0</td>\n",
       "    </tr>\n",
       "    <tr>\n",
       "      <th>3</th>\n",
       "      <td>9045019</td>\n",
       "      <td>교도소 이야기구먼 ..솔직히 재미는 없다..평점 조정</td>\n",
       "      <td>0</td>\n",
       "    </tr>\n",
       "    <tr>\n",
       "      <th>4</th>\n",
       "      <td>6483659</td>\n",
       "      <td>사이몬페그의 익살스런 연기가 돋보였던 영화!스파이더맨에서 늙어보이기만 했던 커스틴 ...</td>\n",
       "      <td>1</td>\n",
       "    </tr>\n",
       "  </tbody>\n",
       "</table>\n",
       "</div>"
      ],
      "text/plain": [
       "         id                                           document  label\n",
       "0   9976970                                아 더빙.. 진짜 짜증나네요 목소리      0\n",
       "1   3819312                  흠...포스터보고 초딩영화줄....오버연기조차 가볍지 않구나      1\n",
       "2  10265843                                  너무재밓었다그래서보는것을추천한다      0\n",
       "3   9045019                      교도소 이야기구먼 ..솔직히 재미는 없다..평점 조정      0\n",
       "4   6483659  사이몬페그의 익살스런 연기가 돋보였던 영화!스파이더맨에서 늙어보이기만 했던 커스틴 ...      1"
      ]
     },
     "execution_count": 1,
     "metadata": {},
     "output_type": "execute_result"
    }
   ],
   "source": [
    "import os\n",
    "import numpy as np\n",
    "import pandas as pd\n",
    "\n",
    "data_path = \"/Users/jonghyun/GitRepo/Personal/nsmc/\"\n",
    "\n",
    "train_df = pd.read_csv(os.path.join(data_path, \"ratings_train.txt\"), delimiter='\\t')\n",
    "test_df  = pd.read_csv(os.path.join(data_path, \"ratings_test.txt\"), delimiter='\\t')\n",
    "\n",
    "train_df.head()"
   ]
  },
  {
   "cell_type": "code",
   "execution_count": 2,
   "metadata": {
    "ExecuteTime": {
     "end_time": "2020-11-01T12:52:43.685079Z",
     "start_time": "2020-11-01T12:52:43.681795Z"
    }
   },
   "outputs": [
    {
     "name": "stdout",
     "output_type": "stream",
     "text": [
      "train dataset: (150000, 3)\n",
      "test dataset: (50000, 3)\n"
     ]
    }
   ],
   "source": [
    "print(f\"train dataset: {train_df.shape}\\ntest dataset: {test_df.shape}\")"
   ]
  },
  {
   "cell_type": "code",
   "execution_count": 3,
   "metadata": {
    "ExecuteTime": {
     "end_time": "2020-11-01T12:52:44.201875Z",
     "start_time": "2020-11-01T12:52:43.714298Z"
    }
   },
   "outputs": [
    {
     "data": {
      "text/html": [
       "<div>\n",
       "<style scoped>\n",
       "    .dataframe tbody tr th:only-of-type {\n",
       "        vertical-align: middle;\n",
       "    }\n",
       "\n",
       "    .dataframe tbody tr th {\n",
       "        vertical-align: top;\n",
       "    }\n",
       "\n",
       "    .dataframe thead th {\n",
       "        text-align: right;\n",
       "    }\n",
       "</style>\n",
       "<table border=\"1\" class=\"dataframe\">\n",
       "  <thead>\n",
       "    <tr style=\"text-align: right;\">\n",
       "      <th></th>\n",
       "      <th>id</th>\n",
       "      <th>document</th>\n",
       "      <th>label</th>\n",
       "    </tr>\n",
       "  </thead>\n",
       "  <tbody>\n",
       "    <tr>\n",
       "      <th>0</th>\n",
       "      <td>9976970</td>\n",
       "      <td>아 더빙 진짜 짜증나네요 목소리</td>\n",
       "      <td>0</td>\n",
       "    </tr>\n",
       "    <tr>\n",
       "      <th>1</th>\n",
       "      <td>3819312</td>\n",
       "      <td>흠포스터보고 초딩영화줄오버연기조차 가볍지 않구나</td>\n",
       "      <td>1</td>\n",
       "    </tr>\n",
       "    <tr>\n",
       "      <th>2</th>\n",
       "      <td>10265843</td>\n",
       "      <td>너무재밓었다그래서보는것을추천한다</td>\n",
       "      <td>0</td>\n",
       "    </tr>\n",
       "    <tr>\n",
       "      <th>3</th>\n",
       "      <td>9045019</td>\n",
       "      <td>교도소 이야기구먼 솔직히 재미는 없다평점 조정</td>\n",
       "      <td>0</td>\n",
       "    </tr>\n",
       "    <tr>\n",
       "      <th>4</th>\n",
       "      <td>6483659</td>\n",
       "      <td>사이몬페그의 익살스런 연기가 돋보였던 영화스파이더맨에서 늙어보이기만 했던 커스틴 던...</td>\n",
       "      <td>1</td>\n",
       "    </tr>\n",
       "  </tbody>\n",
       "</table>\n",
       "</div>"
      ],
      "text/plain": [
       "         id                                           document  label\n",
       "0   9976970                                  아 더빙 진짜 짜증나네요 목소리      0\n",
       "1   3819312                         흠포스터보고 초딩영화줄오버연기조차 가볍지 않구나      1\n",
       "2  10265843                                  너무재밓었다그래서보는것을추천한다      0\n",
       "3   9045019                          교도소 이야기구먼 솔직히 재미는 없다평점 조정      0\n",
       "4   6483659  사이몬페그의 익살스런 연기가 돋보였던 영화스파이더맨에서 늙어보이기만 했던 커스틴 던...      1"
      ]
     },
     "execution_count": 3,
     "metadata": {},
     "output_type": "execute_result"
    }
   ],
   "source": [
    "import re\n",
    "\n",
    "def preprocessor(df, col_name='document'):\n",
    "    df[col_name] = df[col_name].map(lambda x: re.sub(r'[^\\w\\s]', '', str(x)))\n",
    "    \n",
    "    return df\n",
    "    \n",
    "train_df = preprocessor(train_df)\n",
    "test_df  = preprocessor(test_df)\n",
    "\n",
    "train_df.head()"
   ]
  },
  {
   "cell_type": "code",
   "execution_count": 4,
   "metadata": {
    "ExecuteTime": {
     "end_time": "2020-11-01T12:52:44.274614Z",
     "start_time": "2020-11-01T12:52:44.234073Z"
    }
   },
   "outputs": [
    {
     "name": "stdout",
     "output_type": "stream",
     "text": [
      "이\t이/MM\n",
      "밤\t밤/NNG\n",
      "그날의\t그날/NNG + 의/JKG\n",
      "반딧불을\t반딧불/NNG + 을/JKO\n",
      "당신의\t당신/NP + 의/JKG\n",
      "창\t창/NNG\n",
      "가까이\t가까이/MAG\n",
      "보낼게요\t보내/VV + ㄹ게/EC + 이/VCP + 요/EC\n"
     ]
    }
   ],
   "source": [
    "from khaiii import KhaiiiApi\n",
    "api = KhaiiiApi()\n",
    "\n",
    "my_test_str = u'이 밤 그날의 반딧불을 당신의 창 가까이 보낼게요'\n",
    "\n",
    "for word in api.analyze(my_test_str):\n",
    "    print(word)"
   ]
  },
  {
   "cell_type": "code",
   "execution_count": 5,
   "metadata": {
    "ExecuteTime": {
     "end_time": "2020-11-01T12:52:44.326063Z",
     "start_time": "2020-11-01T12:52:44.314828Z"
    }
   },
   "outputs": [
    {
     "data": {
      "text/plain": [
       "[('이', 'MM'),\n",
       " ('밤', 'NNG'),\n",
       " ('그날', 'NNG'),\n",
       " ('의', 'JKG'),\n",
       " ('반딧불', 'NNG'),\n",
       " ('을', 'JKO'),\n",
       " ('당신', 'NP'),\n",
       " ('의', 'JKG'),\n",
       " ('창', 'NNG'),\n",
       " ('가까이', 'MAG'),\n",
       " ('보내', 'VV'),\n",
       " ('ㄹ게', 'EC'),\n",
       " ('이', 'VCP'),\n",
       " ('요', 'EC')]"
      ]
     },
     "execution_count": 5,
     "metadata": {},
     "output_type": "execute_result"
    }
   ],
   "source": [
    "def analyze_morphs(sentence):\n",
    "    morphs = []\n",
    "    try:\n",
    "        for word in api.analyze(sentence):\n",
    "            for morph in word.morphs:\n",
    "                morphs.append((morph.lex, morph.tag))\n",
    "        return morphs\n",
    "    except:\n",
    "        return []\n",
    "    \n",
    "\n",
    "analyze_morphs(my_test_str)"
   ]
  },
  {
   "cell_type": "code",
   "execution_count": 6,
   "metadata": {
    "ExecuteTime": {
     "end_time": "2020-11-01T12:55:22.926191Z",
     "start_time": "2020-11-01T12:52:44.617029Z"
    }
   },
   "outputs": [
    {
     "name": "stderr",
     "output_type": "stream",
     "text": [
      "/Users/jonghyun/opt/anaconda3/envs/nlp/lib/python3.7/site-packages/tqdm/std.py:703: FutureWarning: The Panel class is removed from pandas. Accessing it from the top-level namespace will also be removed in the next version\n",
      "  from pandas import Panel\n",
      "100%|██████████| 150000/150000 [01:58<00:00, 1266.03it/s]\n",
      "100%|██████████| 50000/50000 [00:39<00:00, 1257.31it/s]\n"
     ]
    },
    {
     "data": {
      "text/html": [
       "<div>\n",
       "<style scoped>\n",
       "    .dataframe tbody tr th:only-of-type {\n",
       "        vertical-align: middle;\n",
       "    }\n",
       "\n",
       "    .dataframe tbody tr th {\n",
       "        vertical-align: top;\n",
       "    }\n",
       "\n",
       "    .dataframe thead th {\n",
       "        text-align: right;\n",
       "    }\n",
       "</style>\n",
       "<table border=\"1\" class=\"dataframe\">\n",
       "  <thead>\n",
       "    <tr style=\"text-align: right;\">\n",
       "      <th></th>\n",
       "      <th>id</th>\n",
       "      <th>document</th>\n",
       "      <th>label</th>\n",
       "      <th>morphs</th>\n",
       "    </tr>\n",
       "  </thead>\n",
       "  <tbody>\n",
       "    <tr>\n",
       "      <th>0</th>\n",
       "      <td>9976970</td>\n",
       "      <td>아 더빙 진짜 짜증나네요 목소리</td>\n",
       "      <td>0</td>\n",
       "      <td>[(아, IC), (더빙, MAG), (진, NNG), (짜, MAG), (짜증, ...</td>\n",
       "    </tr>\n",
       "    <tr>\n",
       "      <th>1</th>\n",
       "      <td>3819312</td>\n",
       "      <td>흠포스터보고 초딩영화줄오버연기조차 가볍지 않구나</td>\n",
       "      <td>1</td>\n",
       "      <td>[(흠포스터, NNP), (보, VV), (고, EC), (초딩, NNG), (영화...</td>\n",
       "    </tr>\n",
       "    <tr>\n",
       "      <th>2</th>\n",
       "      <td>10265843</td>\n",
       "      <td>너무재밓었다그래서보는것을추천한다</td>\n",
       "      <td>0</td>\n",
       "      <td>[(너무, MAG), (재, NNG), (밓, SH), (었, EP), (다, EC...</td>\n",
       "    </tr>\n",
       "    <tr>\n",
       "      <th>3</th>\n",
       "      <td>9045019</td>\n",
       "      <td>교도소 이야기구먼 솔직히 재미는 없다평점 조정</td>\n",
       "      <td>0</td>\n",
       "      <td>[(교도소, NNG), (이야기구, NNG), (먼, EC), (솔직히, MAG),...</td>\n",
       "    </tr>\n",
       "    <tr>\n",
       "      <th>4</th>\n",
       "      <td>6483659</td>\n",
       "      <td>사이몬페그의 익살스런 연기가 돋보였던 영화스파이더맨에서 늙어보이기만 했던 커스틴 던...</td>\n",
       "      <td>1</td>\n",
       "      <td>[(사, NNG), (이몬페그, NNP), (의, JKG), (익살, NNG), (...</td>\n",
       "    </tr>\n",
       "  </tbody>\n",
       "</table>\n",
       "</div>"
      ],
      "text/plain": [
       "         id                                           document  label  \\\n",
       "0   9976970                                  아 더빙 진짜 짜증나네요 목소리      0   \n",
       "1   3819312                         흠포스터보고 초딩영화줄오버연기조차 가볍지 않구나      1   \n",
       "2  10265843                                  너무재밓었다그래서보는것을추천한다      0   \n",
       "3   9045019                          교도소 이야기구먼 솔직히 재미는 없다평점 조정      0   \n",
       "4   6483659  사이몬페그의 익살스런 연기가 돋보였던 영화스파이더맨에서 늙어보이기만 했던 커스틴 던...      1   \n",
       "\n",
       "                                              morphs  \n",
       "0  [(아, IC), (더빙, MAG), (진, NNG), (짜, MAG), (짜증, ...  \n",
       "1  [(흠포스터, NNP), (보, VV), (고, EC), (초딩, NNG), (영화...  \n",
       "2  [(너무, MAG), (재, NNG), (밓, SH), (었, EP), (다, EC...  \n",
       "3  [(교도소, NNG), (이야기구, NNG), (먼, EC), (솔직히, MAG),...  \n",
       "4  [(사, NNG), (이몬페그, NNP), (의, JKG), (익살, NNG), (...  "
      ]
     },
     "execution_count": 6,
     "metadata": {},
     "output_type": "execute_result"
    }
   ],
   "source": [
    "from tqdm import tqdm\n",
    "tqdm.pandas()\n",
    "\n",
    "train_df['morphs'] = train_df['document'].progress_apply(lambda x: analyze_morphs(x))\n",
    "test_df['morphs'] = test_df['document'].progress_apply(lambda x: analyze_morphs(x))\n",
    "train_df.head()"
   ]
  },
  {
   "cell_type": "code",
   "execution_count": 7,
   "metadata": {
    "ExecuteTime": {
     "end_time": "2020-11-01T12:55:24.024178Z",
     "start_time": "2020-11-01T12:55:23.035224Z"
    }
   },
   "outputs": [
    {
     "name": "stderr",
     "output_type": "stream",
     "text": [
      "100%|██████████| 150000/150000 [00:00<00:00, 247951.17it/s]\n",
      "100%|██████████| 50000/50000 [00:00<00:00, 143255.43it/s]\n"
     ]
    },
    {
     "data": {
      "text/html": [
       "<div>\n",
       "<style scoped>\n",
       "    .dataframe tbody tr th:only-of-type {\n",
       "        vertical-align: middle;\n",
       "    }\n",
       "\n",
       "    .dataframe tbody tr th {\n",
       "        vertical-align: top;\n",
       "    }\n",
       "\n",
       "    .dataframe thead th {\n",
       "        text-align: right;\n",
       "    }\n",
       "</style>\n",
       "<table border=\"1\" class=\"dataframe\">\n",
       "  <thead>\n",
       "    <tr style=\"text-align: right;\">\n",
       "      <th></th>\n",
       "      <th>id</th>\n",
       "      <th>document</th>\n",
       "      <th>label</th>\n",
       "      <th>morphs</th>\n",
       "      <th>words</th>\n",
       "    </tr>\n",
       "  </thead>\n",
       "  <tbody>\n",
       "    <tr>\n",
       "      <th>0</th>\n",
       "      <td>9976970</td>\n",
       "      <td>아 더빙 진짜 짜증나네요 목소리</td>\n",
       "      <td>0</td>\n",
       "      <td>[(아, IC), (더빙, MAG), (진, NNG), (짜, MAG), (짜증, ...</td>\n",
       "      <td>[아, 더빙, 진, 짜, 짜증, 나네, 요, 목소리]</td>\n",
       "    </tr>\n",
       "    <tr>\n",
       "      <th>1</th>\n",
       "      <td>3819312</td>\n",
       "      <td>흠포스터보고 초딩영화줄오버연기조차 가볍지 않구나</td>\n",
       "      <td>1</td>\n",
       "      <td>[(흠포스터, NNP), (보, VV), (고, EC), (초딩, NNG), (영화...</td>\n",
       "      <td>[흠포스터, 보, 고, 초딩, 영화줄오버연기, 조차, 가볍, 지, 않, 구나]</td>\n",
       "    </tr>\n",
       "    <tr>\n",
       "      <th>2</th>\n",
       "      <td>10265843</td>\n",
       "      <td>너무재밓었다그래서보는것을추천한다</td>\n",
       "      <td>0</td>\n",
       "      <td>[(너무, MAG), (재, NNG), (밓, SH), (었, EP), (다, EC...</td>\n",
       "      <td>[너무, 재, 밓, 었, 다, 그래, 서, 보, 는, 것, 을, 추천, 하, ㄴ다]</td>\n",
       "    </tr>\n",
       "    <tr>\n",
       "      <th>3</th>\n",
       "      <td>9045019</td>\n",
       "      <td>교도소 이야기구먼 솔직히 재미는 없다평점 조정</td>\n",
       "      <td>0</td>\n",
       "      <td>[(교도소, NNG), (이야기구, NNG), (먼, EC), (솔직히, MAG),...</td>\n",
       "      <td>[교도소, 이야기구, 먼, 솔직히, 재미, 는, 없, 다, 평점, 조정]</td>\n",
       "    </tr>\n",
       "    <tr>\n",
       "      <th>4</th>\n",
       "      <td>6483659</td>\n",
       "      <td>사이몬페그의 익살스런 연기가 돋보였던 영화스파이더맨에서 늙어보이기만 했던 커스틴 던...</td>\n",
       "      <td>1</td>\n",
       "      <td>[(사, NNG), (이몬페그, NNP), (의, JKG), (익살, NNG), (...</td>\n",
       "      <td>[사, 이몬페그, 의, 익살, 스럽, ㄴ, 연기, 가, 돋보이, 었, 던, 영화스파...</td>\n",
       "    </tr>\n",
       "  </tbody>\n",
       "</table>\n",
       "</div>"
      ],
      "text/plain": [
       "         id                                           document  label  \\\n",
       "0   9976970                                  아 더빙 진짜 짜증나네요 목소리      0   \n",
       "1   3819312                         흠포스터보고 초딩영화줄오버연기조차 가볍지 않구나      1   \n",
       "2  10265843                                  너무재밓었다그래서보는것을추천한다      0   \n",
       "3   9045019                          교도소 이야기구먼 솔직히 재미는 없다평점 조정      0   \n",
       "4   6483659  사이몬페그의 익살스런 연기가 돋보였던 영화스파이더맨에서 늙어보이기만 했던 커스틴 던...      1   \n",
       "\n",
       "                                              morphs  \\\n",
       "0  [(아, IC), (더빙, MAG), (진, NNG), (짜, MAG), (짜증, ...   \n",
       "1  [(흠포스터, NNP), (보, VV), (고, EC), (초딩, NNG), (영화...   \n",
       "2  [(너무, MAG), (재, NNG), (밓, SH), (었, EP), (다, EC...   \n",
       "3  [(교도소, NNG), (이야기구, NNG), (먼, EC), (솔직히, MAG),...   \n",
       "4  [(사, NNG), (이몬페그, NNP), (의, JKG), (익살, NNG), (...   \n",
       "\n",
       "                                               words  \n",
       "0                      [아, 더빙, 진, 짜, 짜증, 나네, 요, 목소리]  \n",
       "1        [흠포스터, 보, 고, 초딩, 영화줄오버연기, 조차, 가볍, 지, 않, 구나]  \n",
       "2     [너무, 재, 밓, 었, 다, 그래, 서, 보, 는, 것, 을, 추천, 하, ㄴ다]  \n",
       "3           [교도소, 이야기구, 먼, 솔직히, 재미, 는, 없, 다, 평점, 조정]  \n",
       "4  [사, 이몬페그, 의, 익살, 스럽, ㄴ, 연기, 가, 돋보이, 었, 던, 영화스파...  "
      ]
     },
     "execution_count": 7,
     "metadata": {},
     "output_type": "execute_result"
    }
   ],
   "source": [
    "# filtering logic을 추가해도 좋을 듯 \n",
    "\n",
    "train_df['words'] = train_df['morphs'].progress_apply(lambda x: [word[0] for word in x])\n",
    "test_df['words']  = test_df['morphs'].progress_apply(lambda x: [word[0] for word in x])\n",
    "\n",
    "train_df.head()"
   ]
  },
  {
   "cell_type": "code",
   "execution_count": 37,
   "metadata": {
    "ExecuteTime": {
     "end_time": "2020-11-01T13:04:08.311133Z",
     "start_time": "2020-11-01T13:04:04.167402Z"
    }
   },
   "outputs": [],
   "source": [
    "from tensorflow.python.keras.preprocessing.text import Tokenizer\n",
    "from tensorflow.python.keras.preprocessing.sequence import pad_sequences\n",
    "\n",
    "# train_review = [word for doc in train_df.words.values for word in doc]\n",
    "# test_review  = [word for doc in test_df.words.values for word in doc]\n",
    "\n",
    "train_review = train_df.words.values.tolist()\n",
    "test_review  = test_df.words.values.tolist()\n",
    "\n",
    "tokenizer = Tokenizer()\n",
    "tokenizer.fit_on_texts(train_review)\n",
    "\n",
    "train_seq = tokenizer.texts_to_sequences(train_review)\n",
    "test_seq  = tokenizer.texts_to_sequences(test_review)"
   ]
  },
  {
   "cell_type": "code",
   "execution_count": 38,
   "metadata": {
    "ExecuteTime": {
     "end_time": "2020-11-01T13:04:11.102680Z",
     "start_time": "2020-11-01T13:04:10.217048Z"
    }
   },
   "outputs": [],
   "source": [
    "word_vocab = tokenizer.word_index\n",
    "max_length = 50\n",
    "\n",
    "X_train = pad_sequences(train_seq, maxlen=max_length, padding='post')\n",
    "X_test  = pad_sequences(test_seq, maxlen=max_length, padding='post')\n",
    "\n",
    "y_train = train_df.label.values\n",
    "y_test  = test_df.label.values"
   ]
  },
  {
   "cell_type": "code",
   "execution_count": 32,
   "metadata": {
    "ExecuteTime": {
     "end_time": "2020-11-01T13:02:28.160515Z",
     "start_time": "2020-11-01T13:02:28.156653Z"
    },
    "scrolled": true
   },
   "outputs": [
    {
     "data": {
      "text/plain": [
       "(150000, 27)"
      ]
     },
     "execution_count": 32,
     "metadata": {},
     "output_type": "execute_result"
    }
   ],
   "source": [
    "X_train.shape"
   ]
  },
  {
   "cell_type": "code",
   "execution_count": 40,
   "metadata": {
    "ExecuteTime": {
     "end_time": "2020-11-01T13:04:32.889469Z",
     "start_time": "2020-11-01T13:04:27.303217Z"
    },
    "scrolled": true
   },
   "outputs": [
    {
     "name": "stdout",
     "output_type": "stream",
     "text": [
      "Epoch 1/5\n",
      "1172/1172 [==============================] - 1s 748us/step - loss: 66.4183 - binary_accuracy: 0.5052\n",
      "Epoch 2/5\n",
      "1172/1172 [==============================] - 1s 727us/step - loss: 1.1570 - binary_accuracy: 0.5014\n",
      "Epoch 3/5\n",
      "1172/1172 [==============================] - 1s 727us/step - loss: 0.6960 - binary_accuracy: 0.4995\n",
      "Epoch 4/5\n",
      "1172/1172 [==============================] - 1s 722us/step - loss: 0.6940 - binary_accuracy: 0.4974\n",
      "Epoch 5/5\n",
      "1172/1172 [==============================] - 1s 757us/step - loss: 0.6956 - binary_accuracy: 0.5013\n",
      "1563/1563 [==============================] - 1s 469us/step - loss: 0.6947 - binary_accuracy: 0.5035\n"
     ]
    }
   ],
   "source": [
    "from tensorflow.keras import models\n",
    "from tensorflow.keras import layers\n",
    "from tensorflow.keras import optimizers\n",
    "from tensorflow.keras import losses\n",
    "from tensorflow.keras import metrics\n",
    "\n",
    "model = models.Sequential()\n",
    "model.add(layers.Dense(64, activation='relu', input_shape=(50, )))\n",
    "model.add(layers.Dense(64, activation='relu'))\n",
    "model.add(layers.Dense(1, activation='sigmoid'))\n",
    "\n",
    "model.compile(optimizer=optimizers.RMSprop(lr=0.001),\n",
    "             loss=losses.binary_crossentropy,\n",
    "             metrics=[metrics.binary_accuracy])\n",
    "\n",
    "model.fit(X_train, y_train, epochs=5, batch_size=128)\n",
    "results = model.evaluate(X_test, y_test)"
   ]
  },
  {
   "cell_type": "code",
   "execution_count": 46,
   "metadata": {
    "ExecuteTime": {
     "end_time": "2020-11-01T13:41:06.742719Z",
     "start_time": "2020-11-01T13:22:43.624326Z"
    }
   },
   "outputs": [
    {
     "name": "stderr",
     "output_type": "stream",
     "text": [
      "100%|██████████| 150000/150000 [18:23<00:00, 135.98it/s]\n"
     ]
    }
   ],
   "source": [
    "from konlpy.tag import Okt\n",
    "\n",
    "okt = Okt()\n",
    "\n",
    "def okt_pos_tagging(sentence, okt=okt):\n",
    "    return ['/'.join(t) for t in okt.pos(sentence, norm=True, stem=True)]\n",
    "\n",
    "train_df['okt_pos'] = train_df['document'].progress_apply(okt_pos_tagging)\n",
    "test_df['okt_pos']  = test_df['document'].progress_apply(okt_pos_tagging)"
   ]
  },
  {
   "cell_type": "code",
   "execution_count": 48,
   "metadata": {
    "ExecuteTime": {
     "end_time": "2020-11-01T13:42:17.598582Z",
     "start_time": "2020-11-01T13:42:12.640967Z"
    }
   },
   "outputs": [],
   "source": [
    "train_df.to_pickle(\"train_df.pkl\")\n",
    "test_df.to_pickle(\"test_df.pkl\")"
   ]
  },
  {
   "cell_type": "code",
   "execution_count": 62,
   "metadata": {
    "ExecuteTime": {
     "end_time": "2020-11-01T13:50:20.702763Z",
     "start_time": "2020-11-01T13:50:20.613919Z"
    }
   },
   "outputs": [
    {
     "name": "stdout",
     "output_type": "stream",
     "text": [
      "1950498\n"
     ]
    }
   ],
   "source": [
    "tokens = [t for d in train_df['okt_pos'].values.tolist() for t in d]\n",
    "print(len(tokens))\n",
    "\n",
    "import nltk\n",
    "text = nltk.Text(tokens, name='NMSC')"
   ]
  },
  {
   "cell_type": "code",
   "execution_count": 64,
   "metadata": {
    "ExecuteTime": {
     "end_time": "2020-11-01T13:50:50.613137Z",
     "start_time": "2020-11-01T13:50:50.433863Z"
    }
   },
   "outputs": [
    {
     "name": "stdout",
     "output_type": "stream",
     "text": [
      "48481\n"
     ]
    }
   ],
   "source": [
    "# 중복을 제외한 토큰의 개수\n",
    "print(len(set(text.tokens)))"
   ]
  },
  {
   "cell_type": "code",
   "execution_count": 67,
   "metadata": {
    "ExecuteTime": {
     "end_time": "2020-11-01T13:51:24.636705Z",
     "start_time": "2020-11-01T13:51:23.509966Z"
    }
   },
   "outputs": [
    {
     "name": "stdout",
     "output_type": "stream",
     "text": [
      "\u001b[31mERROR: Could not find a version that satisfies the requirement pprint (from versions: none)\u001b[0m\n",
      "\u001b[31mERROR: No matching distribution found for pprint\u001b[0m\n",
      "[('영화/Noun', 50671),\n",
      " ('하다/Verb', 40957),\n",
      " ('이/Josa', 38605),\n",
      " ('보다/Verb', 38413),\n",
      " ('의/Josa', 30271),\n",
      " ('가/Josa', 26593),\n",
      " ('에/Josa', 26403),\n",
      " ('을/Josa', 23104),\n",
      " ('도/Josa', 19903),\n",
      " ('은/Josa', 18355)]\n"
     ]
    }
   ],
   "source": [
    "from pprint import pprint\n",
    "\n",
    "# 출현 빈도가 높은 상위 토큰 10개\n",
    "pprint(text.vocab().most_common(10))"
   ]
  },
  {
   "cell_type": "code",
   "execution_count": 70,
   "metadata": {
    "ExecuteTime": {
     "end_time": "2020-11-01T13:55:11.105581Z",
     "start_time": "2020-11-01T13:55:10.531755Z"
    }
   },
   "outputs": [
    {
     "data": {
      "image/png": "[encoded data removed]",
      "text/plain": [
       "<Figure size 1440x720 with 1 Axes>"
      ]
     },
     "metadata": {
      "needs_background": "light"
     },
     "output_type": "display_data"
    }
   ],
   "source": [
    "import matplotlib.pyplot as plt\n",
    "from matplotlib import font_manager, rc\n",
    "%matplotlib inline\n",
    "\n",
    "font_fname = '/Users/jonghyun/Library/Fonts/D2Coding-Ver1.3.2-20180524.ttf'\n",
    "font_name = font_manager.FontProperties(fname=font_fname).get_name()\n",
    "rc('font', family=font_name)\n",
    "\n",
    "plt.figure(figsize=(20,10))\n",
    "text.plot(50)"
   ]
  },
  {
   "cell_type": "code",
   "execution_count": 72,
   "metadata": {
    "ExecuteTime": {
     "end_time": "2020-11-01T14:18:39.550539Z",
     "start_time": "2020-11-01T14:02:57.210113Z"
    }
   },
   "outputs": [],
   "source": [
    "selected_words = [f[0] for f in text.vocab().most_common(5000)]\n",
    "\n",
    "def term_frequency(doc):\n",
    "    return [doc.count(word) for word in selected_words]\n",
    "\n",
    "X_train = [term_frequency(d) for d in train_df['okt_pos'].values.tolist()]\n",
    "X_test = [term_frequency(d) for d in test_df['okt_pos'].values.tolist()]\n",
    "\n",
    "y_train = train_df['label'].values.tolist()\n",
    "y_test = test_df['label'].values.tolist()"
   ]
  },
  {
   "cell_type": "code",
   "execution_count": 74,
   "metadata": {
    "ExecuteTime": {
     "end_time": "2020-11-01T14:26:19.695652Z",
     "start_time": "2020-11-01T14:24:54.447018Z"
    }
   },
   "outputs": [],
   "source": [
    "X_train = np.asarray(X_train).astype('float32')\n",
    "X_test = np.asarray(X_test).astype('float32')\n",
    "\n",
    "y_train = np.asarray(y_train).astype('float32')\n",
    "y_test = np.asarray(y_test).astype('float32')"
   ]
  },
  {
   "cell_type": "code",
   "execution_count": 77,
   "metadata": {
    "ExecuteTime": {
     "end_time": "2020-11-01T14:28:09.061645Z",
     "start_time": "2020-11-01T14:27:45.902913Z"
    }
   },
   "outputs": [
    {
     "name": "stdout",
     "output_type": "stream",
     "text": [
      "Epoch 1/10\n",
      "293/293 [==============================] - 2s 7ms/step - loss: 0.3991 - binary_accuracy: 0.8268\n",
      "Epoch 2/10\n",
      "293/293 [==============================] - 2s 6ms/step - loss: 0.3336 - binary_accuracy: 0.8535\n",
      "Epoch 3/10\n",
      "293/293 [==============================] - 2s 6ms/step - loss: 0.3136 - binary_accuracy: 0.8654\n",
      "Epoch 4/10\n",
      "293/293 [==============================] - 2s 8ms/step - loss: 0.2982 - binary_accuracy: 0.8744\n",
      "Epoch 5/10\n",
      "293/293 [==============================] - 2s 7ms/step - loss: 0.2829 - binary_accuracy: 0.8827\n",
      "Epoch 6/10\n",
      "293/293 [==============================] - 2s 7ms/step - loss: 0.2672 - binary_accuracy: 0.8905\n",
      "Epoch 7/10\n",
      "293/293 [==============================] - 2s 7ms/step - loss: 0.2500 - binary_accuracy: 0.8990\n",
      "Epoch 8/10\n",
      "293/293 [==============================] - 2s 7ms/step - loss: 0.2325 - binary_accuracy: 0.9069\n",
      "Epoch 9/10\n",
      "293/293 [==============================] - 2s 7ms/step - loss: 0.2168 - binary_accuracy: 0.9142\n",
      "Epoch 10/10\n",
      "293/293 [==============================] - 2s 7ms/step - loss: 0.2024 - binary_accuracy: 0.9203\n",
      "1563/1563 [==============================] - 2s 1ms/step - loss: 0.3843 - binary_accuracy: 0.8489\n"
     ]
    }
   ],
   "source": [
    "from tensorflow.keras import models\n",
    "from tensorflow.keras import layers\n",
    "from tensorflow.keras import optimizers\n",
    "from tensorflow.keras import losses\n",
    "from tensorflow.keras import metrics\n",
    "\n",
    "model = models.Sequential()\n",
    "model.add(layers.Dense(64, activation='relu', input_shape=(5000,)))\n",
    "model.add(layers.Dense(64, activation='relu'))\n",
    "model.add(layers.Dense(1, activation='sigmoid'))\n",
    "\n",
    "model.compile(optimizer=optimizers.RMSprop(lr=0.001),\n",
    "             loss=losses.binary_crossentropy,\n",
    "             metrics=[metrics.binary_accuracy])\n",
    "\n",
    "model.fit(X_train, y_train, epochs=10, batch_size=512)\n",
    "results = model.evaluate(X_test, y_test)"
   ]
  },
  {
   "cell_type": "code",
   "execution_count": null,
   "metadata": {},
   "outputs": [],
   "source": []
  }
 ],
 "metadata": {
  "kernelspec": {
   "display_name": "Python 3",
   "language": "python",
   "name": "python3"
  },
  "language_info": {
   "codemirror_mode": {
    "name": "ipython",
    "version": 3
   },
   "file_extension": ".py",
   "mimetype": "text/x-python",
   "name": "python",
   "nbconvert_exporter": "python",
   "pygments_lexer": "ipython3",
   "version": "3.7.9"
  },
  "toc": {
   "base_numbering": 1,
   "nav_menu": {},
   "number_sections": true,
   "sideBar": true,
   "skip_h1_title": false,
   "title_cell": "Table of Contents",
   "title_sidebar": "Contents",
   "toc_cell": false,
   "toc_position": {},
   "toc_section_display": true,
   "toc_window_display": false
  },
  "varInspector": {
   "cols": {
    "lenName": 16,
    "lenType": 16,
    "lenVar": 40
   },
   "kernels_config": {
    "python": {
     "delete_cmd_postfix": "",
     "delete_cmd_prefix": "del ",
     "library": "var_list.py",
     "varRefreshCmd": "print(var_dic_list())"
    },
    "r": {
     "delete_cmd_postfix": ") ",
     "delete_cmd_prefix": "rm(",
     "library": "var_list.r",
     "varRefreshCmd": "cat(var_dic_list()) "
    }
   },
   "position": {
    "height": "347px",
    "left": "1060px",
    "right": "20px",
    "top": "120px",
    "width": "360px"
   },
   "types_to_exclude": [
    "module",
    "function",
    "builtin_function_or_method",
    "instance",
    "_Feature"
   ],
   "window_display": false
  }
 },
 "nbformat": 4,
 "nbformat_minor": 4
}
