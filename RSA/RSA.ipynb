{
 "cells": [
  {
   "cell_type": "markdown",
   "metadata": {},
   "source": [
    "# RSA 방법\n",
    "\n",
    "- 단계 1. 두개의 소수 p, q를 정합니다.(여기서 소수 p,q가 너무 작을 시 제대로 암/복호화가 이루어지지 않습니다.)\n",
    "- 단계 2. 두 키의 계수인 n=pq를 구합니다.\n",
    "- 단계 3. 오일러의 피 함수(Euler’s totient function) 값, 즉 totient =(p-1)(q-1)를 계산합니다.\n",
    "- 단계 4. 1<e<totient, gcd(e, totient)가 1인 e를 구합니다. e는 바로 public key가 됩니다.\n",
    "- 단계 5. d*e를 totient로 나누었을 때의 나머지가 1이 되는 d를 구합니다. d는 private key가 됩니다.\n",
    "- 단계 6. 암호화 된 메세지 c = m^e % n을 구합니다. m은 메세지 각각의 단일 문자를 아스키 코드로 변환한 값을 말합니다. 예를 들어, “ABCD”라는 문자를 암호화 한다고 하면(e=2, n=7이라고 가정하겠습니다.), 각각의 아스키 코드 값 65 66 67 68은 65^2%7 66^2%7 67^2%7 68^2%7로 암호화 되어 최종 암호화된 메세지는 4 2 2 4가 됩니다.\n",
    "- 단계 7. 각각의 메세지 값을 복호화한 값 m = (c*d)%n을 이용해 복호화 된 메세지를 구합니다."
   ]
  },
  {
   "cell_type": "code",
   "execution_count": 4,
   "metadata": {},
   "outputs": [
    {
     "name": "stdout",
     "output_type": "stream",
     "text": [
      "Your message     :  Hello World!\n",
      "Encrypted Message: 128238757511543111607516180\n",
      "Decrypted Message: Hello World!\n"
     ]
    }
   ],
   "source": [
    "class RSA():\n",
    "    # step 1. define two prime numbers\n",
    "    def __init__(self, message=None):\n",
    "        self.p = 13\n",
    "        self.q = 23\n",
    "        self.message = message\n",
    "        print(\"Your message     : \", self.message)\n",
    "    \n",
    "    # step 2. calc coef of two prime numbers\n",
    "    def calc_coef(self):\n",
    "        self.coef = self.p * self.q\n",
    "    \n",
    "    # step 3. calc Euler's totient function\n",
    "    def totient(self):\n",
    "        self.totient = (self.p - 1) * (self.q - 1)\n",
    "\n",
    "    # step 4. get public key\n",
    "    def get_public_key(self):\n",
    "        self.publicKey = 2\n",
    "        \n",
    "        while self.publicKey < self.totient and self.gcd(self.publicKey, self.totient) != 1:\n",
    "            self.publicKey += 1\n",
    "    \n",
    "    def gcd(self, a, b):\n",
    "        while b != 0:\n",
    "            a, b = b, a%b\n",
    "        \n",
    "        return a\n",
    "    \n",
    "    # step 5. get private key\n",
    "    def get_private_key(self):\n",
    "        self.privateKey = 1\n",
    "        \n",
    "        while (self.publicKey * self.privateKey) % self.totient != 1 or self.privateKey == self.publicKey:\n",
    "            self.privateKey += 1\n",
    "    \n",
    "    # step 6. encrypting message using public key and coef\n",
    "    def encrypt(self):\n",
    "        # need public key and coef\n",
    "        self.cipherText = [(ord(char) ** self.publicKey) % self.coef for char in self.message]\n",
    "        print('Encrypted Message:', ''.join(map(lambda x: str(x), self.cipherText)))\n",
    "    \n",
    "    # step 6. decrypting message using private key and coef\n",
    "    def decrypt(self):\n",
    "        # need private key\n",
    "        self.restoreMessage = [chr((char ** self.privateKey) % self.coef) for char in self.cipherText]\n",
    "        print('Decrypted Message:', \"\".join(self.restoreMessage))\n",
    "    \n",
    "    def main(self):\n",
    "        self.calc_coef()\n",
    "        self.totient()\n",
    "        self.get_public_key()\n",
    "        self.get_private_key()\n",
    "        self.encrypt()\n",
    "        self.decrypt()\n",
    "        \n",
    "if __name__ == \"__main__\":\n",
    "    rsa = RSA(\"Hello World!\")\n",
    "    rsa.main()"
   ]
  },
  {
   "cell_type": "markdown",
   "metadata": {},
   "source": [
    "## Reference\n",
    "\n",
    "- https://wkdtjsgur100.github.io/RSA-algorithm/"
   ]
  },
  {
   "cell_type": "code",
   "execution_count": null,
   "metadata": {},
   "outputs": [],
   "source": []
  }
 ],
 "metadata": {
  "kernelspec": {
   "display_name": "Python 3",
   "language": "python",
   "name": "python3"
  },
  "language_info": {
   "codemirror_mode": {
    "name": "ipython",
    "version": 3
   },
   "file_extension": ".py",
   "mimetype": "text/x-python",
   "name": "python",
   "nbconvert_exporter": "python",
   "pygments_lexer": "ipython3",
   "version": "3.7.1"
  }
 },
 "nbformat": 4,
 "nbformat_minor": 2
}
